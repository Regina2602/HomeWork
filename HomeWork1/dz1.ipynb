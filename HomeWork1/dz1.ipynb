{
 "cells": [
  {
   "cell_type": "markdown",
   "metadata": {},
   "source": [
    "# Домашнее задание к лекции \"Введение в типы данных и циклы. Часть 1\""
   ]
  },
  {
   "cell_type": "markdown",
   "metadata": {},
   "source": [
    "## Задание 1\n",
    "Дана переменная, в которой хранится слово из латинских букв. Напишите код, который выводит на экран:\n",
    "- среднюю букву, если число букв в слове нечетное;\n",
    "- две средних буквы, если число букв четное.\n",
    "\n",
    "Примеры работы программы:  \n",
    "1. `word = 'test'`\n",
    "\n",
    "Результат:  \n",
    "`es`\n",
    "2.     \n",
    "`word = 'testing'`\n",
    "\n",
    "Результат:  \n",
    "`t`"
   ]
  },
  {
   "cell_type": "code",
   "execution_count": 17,
   "metadata": {},
   "outputs": [
    {
     "name": "stdout",
     "output_type": "stream",
     "text": [
      "test\n",
      "es\n"
     ]
    }
   ],
   "source": [
    "string=input()\n",
    "if len(string)%2==0:\n",
    "    print(string[len(string)//2-1:len(string)//2+1])\n",
    "else:\n",
    "    print(string[len(string)//2])"
   ]
  },
  {
   "cell_type": "markdown",
   "metadata": {},
   "source": [
    "## Задание 2\n",
    "Напишите программу, которая последовательно запрашивает у пользователя числа (по одному за раз) и после первого нуля выводит сумму всех ранее введенных чисел.\n",
    "\n",
    "Примеры работы программы:  \n",
    "1.   \n",
    "\n",
    "```\n",
    "Введите число:  \n",
    "1\n",
    "\n",
    "Введите число:  \n",
    "4\n",
    "\n",
    "Введите число:  \n",
    "6\n",
    "\n",
    "Введите число:  \n",
    "0\n",
    "```\n",
    "\n",
    "Результат:  \n",
    "`11`\n",
    "\n",
    "2.      \n",
    "\n",
    "```\n",
    "Введите число:  \n",
    "0\n",
    "```  \n",
    "\n",
    "Результат:  \n",
    "`0`"
   ]
  },
  {
   "cell_type": "code",
   "execution_count": 26,
   "metadata": {
    "scrolled": true
   },
   "outputs": [
    {
     "name": "stdout",
     "output_type": "stream",
     "text": [
      "1\n",
      "4\n",
      "6\n",
      "0\n",
      "11\n"
     ]
    }
   ],
   "source": [
    "user_number=input()\n",
    "sum=0\n",
    "while int(user_number)!=0:\n",
    "    sum=sum+int(user_number)\n",
    "    user_number=input()\n",
    "print(sum)\n",
    "    \n",
    "    "
   ]
  },
  {
   "cell_type": "markdown",
   "metadata": {},
   "source": [
    "\n",
    "Задание 3\n",
    "\n",
    "Мы делаем [MVP] dating-сервиса, и у нас есть список парней и девушек.  \n",
    "Выдвигаем гипотезу: лучшие рекомендации мы получим, если просто отсортируем имена по алфавиту и познакомим людей с одинаковыми индексами после сортировки!\n",
    "Но мы не будем никого знакомить, если кто-то может остаться без пары:\n",
    "\n",
    "Примеры работы программы:  \n",
    "1.  \n",
    "\n",
    "```\n",
    "boys = ['Peter', 'Alex', 'John', 'Arthur', 'Richard']\n",
    "girls = ['Kate', 'Liza', 'Kira', 'Emma', 'Trisha']\n",
    "```\n",
    "\n",
    "Результат:  \n",
    "```\n",
    "Идеальные пары:  \n",
    "Alex и Emma  \n",
    "Arthur и Kate  \n",
    "John и Kira  \n",
    "Peter и Liza  \n",
    "Richard и Trisha \n",
    "```\n",
    "2.     \n",
    "\n",
    "```\n",
    "boys = ['Peter', 'Alex', 'John', 'Arthur', 'Richard', 'Michael']\n",
    "girls = ['Kate', 'Liza', 'Kira', 'Emma', 'Trisha']\n",
    "```\n",
    "\n",
    "Результат:  \n",
    "`Внимание, кто-то может остаться без пары!`"
   ]
  },
  {
   "cell_type": "code",
   "execution_count": 42,
   "metadata": {},
   "outputs": [
    {
     "name": "stdout",
     "output_type": "stream",
     "text": [
      "Окончание вода имен заканчивается end\n",
      "Boys:\n",
      "peter\n",
      "alec\n",
      "john\n",
      "arthur\n",
      "richard\n",
      "mick\n",
      "end\n",
      "Girls:\n",
      "kate\n",
      "liza\n",
      "kira\n",
      "emma\n",
      "trisha\n",
      "una\n",
      "end\n",
      "['peter', 'alec', 'john', 'arthur', 'richard', 'mick']\n",
      "['kate', 'liza', 'kira', 'emma', 'trisha', 'una']\n",
      "Идеальные пары:\n",
      "alec and emma\n",
      "arthur and kate\n",
      "john and kira\n",
      "mick and liza\n",
      "peter and trisha\n",
      "richard and una\n"
     ]
    }
   ],
   "source": [
    "boys=[]\n",
    "girls=[]\n",
    "print('Окончание вода имен заканчивается end')\n",
    "print('Boys:')\n",
    "name=input()\n",
    "while name!='end':\n",
    "    boys.append(name)\n",
    "    name=input()\n",
    "print (\"Girls:\")\n",
    "name=input()\n",
    "while name!='end':\n",
    "    girls.append(name)\n",
    "    name=input()\n",
    "print(boys)\n",
    "print(girls)\n",
    "n=len(boys)\n",
    "if (len(boys)!=len(girls)):\n",
    "    print('Внимание, кто-то может остаться без пары!')\n",
    "else:\n",
    "        boys.sort()\n",
    "        girls.sort()\n",
    "        print('Идеальные пары:')\n",
    "        i=0\n",
    "while i!=len(boys):\n",
    "        print(boys[i]+' and '+girls[i])\n",
    "        i=i+1\n",
    "        \n",
    "    \n"
   ]
  },
  {
   "cell_type": "markdown",
   "metadata": {},
   "source": [
    "## Задание 4\n",
    "\n",
    "У нас есть список, содержащий информацию о среднедневной температуре в Фаренгейтах за произвольный период по странам (структура данных в примере).\n",
    "Необходимо написать код, который рассчитает среднюю температуру за период в Цельсиях(!) для каждой страны.\n",
    "\n",
    "Пример работы программы:  \n",
    "```\n",
    "countries_temperature = [\n",
    "    ['Thailand', [75.2, 77, 78.8, 73.4, 68, 75.2, 77]],\n",
    "    ['Germany', [57.2, 55.4, 59, 59, 53.6]],\n",
    "    ['Russia', [35.6, 37.4, 39.2, 41, 42.8, 39.2, 35.6]],\n",
    "    ['Poland', [50, 50, 53.6, 57.2, 55.4, 55.4]]\n",
    "]\n",
    "```\n",
    "\n",
    "Результат:  \n",
    "```\n",
    "Средняя температура в странах:\n",
    "Thailand  -  23.9 С\n",
    "Germany  -  13.8 С\n",
    "Russia  -  3.7 С\n",
    "Poland  -  12.0 С\n",
    "```"
   ]
  },
  {
   "cell_type": "code",
   "execution_count": 32,
   "metadata": {},
   "outputs": [
    {
     "name": "stdout",
     "output_type": "stream",
     "text": [
      "Thailand - 23.9 C\n",
      "Germany - 13.8 C\n",
      "Russia - 3.7 C\n",
      "Poland - 12.0 C\n"
     ]
    }
   ],
   "source": [
    "countries_temperature = [\n",
    "    ['Thailand', [75.2, 77, 78.8, 73.4, 68, 75.2, 77]],\n",
    "    ['Germany', [57.2, 55.4, 59, 59, 53.6]],\n",
    "    ['Russia', [35.6, 37.4, 39.2, 41, 42.8, 39.2, 35.6]],\n",
    "    ['Poland', [50, 50, 53.6, 57.2, 55.4, 55.4]]\n",
    "]\n",
    "def toFixed(number, digits):\n",
    "    return f\"{number:.{digits}f}\"\n",
    "i=0\n",
    "j=0\n",
    "sum=0\n",
    "\n",
    "while i!=len(countries_temperature):\n",
    "    for el in countries_temperature[i][1]:\n",
    "        sum+=el\n",
    "    sr_temp=5/9*(sum/len(countries_temperature[i][1])-32)\n",
    "    print(countries_temperature[i][0],'-',toFixed(sr_temp,1),'C')\n",
    "    i+=1\n",
    "    sum=0\n",
    "    "
   ]
  },
  {
   "cell_type": "markdown",
   "metadata": {},
   "source": [
    "## Задание 5\n",
    "\n",
    "Дан поток логов по количеству просмотренных страниц для каждого пользователя. Вам необходимо написать алгоритм, который считает среднее значение просмотров на пользователя. \n",
    "Т. е. надо посчитать отношение суммы всех просмотров к количеству уникальных пользователей.\n",
    "\n",
    "Примеры работы программы:  \n",
    "1.  \n",
    "\n",
    "```\n",
    "stream = [\n",
    "    '2018-01-01,user1,3',\n",
    "    '2018-01-07,user1,4',\n",
    "    '2018-03-29,user1,1',\n",
    "    '2018-04-04,user1,13',\n",
    "    '2018-01-05,user2,7',\n",
    "    '2018-06-14,user3,4',\n",
    "    '2018-07-02,user3,10',\n",
    "    '2018-03-21,user4,19',\n",
    "    '2018-03-22,user4,4',\n",
    "    '2018-04-22,user4,8',\n",
    "    '2018-05-03,user4,9',\n",
    "    '2018-05-11,user4,11',\n",
    "]\n",
    "```\n",
    "\n",
    "Результат:  \n",
    "`Среднее количество просмотров на уникального пользователя: 23.25`\n",
    "2.     \n",
    "\n",
    "```\n",
    "stream = [\n",
    "    '2018-01-01,user100,150',\n",
    "    '2018-01-07,user99,205',\n",
    "    '2018-03-29,user1001,81'\n",
    "]\n",
    "```\n",
    "\n",
    "Результат:  \n",
    "`Среднее количество просмотров на уникального пользователя: 145.33`"
   ]
  },
  {
   "cell_type": "code",
   "execution_count": 54,
   "metadata": {},
   "outputs": [
    {
     "name": "stdout",
     "output_type": "stream",
     "text": [
      "Среднее количество просмотров на уникального пользователя: 23.25\n",
      "93 4 0\n"
     ]
    }
   ],
   "source": [
    "stream = [\n",
    "    '2018-01-01,user1,3',\n",
    "    '2018-01-07,user1,4',\n",
    "    '2018-03-29,user1,1',\n",
    "    '2018-04-04,user1,13',\n",
    "    '2018-01-05,user2,7',\n",
    "    '2018-06-14,user3,4',\n",
    "    '2018-07-02,user3,10',\n",
    "    '2018-03-21,user4,19',\n",
    "    '2018-03-22,user4,4',\n",
    "    '2018-04-22,user4,8',\n",
    "    '2018-05-03,user4,9',\n",
    "    '2018-05-11,user4,11',\n",
    "]\n",
    "count=0\n",
    "sum=0\n",
    "k=0\n",
    "for el in stream:\n",
    "    newstream=el.split(',')\n",
    "    if newstream[1]!=user:\n",
    "        count+=1\n",
    "    user=newstream[1]\n",
    "    sum+=int(newstream[2])\n",
    "print('Среднее количество просмотров на уникального пользователя:',sum/count)\n",
    "print(sum,count,k)   \n",
    "        \n"
   ]
  },
  {
   "cell_type": "markdown",
   "metadata": {},
   "source": [
    "## Задание 6\n",
    "\n",
    "Необходимо у пользователя запрашивать набор чисел разделенных пробелом. В результате должны выводиться числа, которые повторяются в вводе более одного раза.\n",
    "\n",
    "Примеры работы программы:  \n",
    "1.  \n",
    "\n",
    "```\n",
    "Введите числа:\n",
    "4 8 0 3 4 2 0 3\n",
    "```\n",
    "\n",
    "Результат:  \n",
    "`0 3 4`\n",
    "2.     \n",
    "\n",
    "```\n",
    "Введите числа:\n",
    "1 1 2 2 3 3\n",
    "```\n",
    "\n",
    "Результат:  \n",
    "`1 2 3`\n",
    "3.     \n",
    "\n",
    "```\n",
    "Введите числа:\n",
    "1 1 1 1 1 2 2 2\n",
    "```\n",
    "\n",
    "Результат:  \n",
    "`1 2`"
   ]
  },
  {
   "cell_type": "code",
   "execution_count": 19,
   "metadata": {},
   "outputs": [
    {
     "name": "stdout",
     "output_type": "stream",
     "text": [
      "1 2 3 1 2 3 5 5 6\n",
      "['1', '2', '3', '1', '2', '3', '5', '5', '6']\n",
      "1\n",
      "2\n",
      "3\n",
      "5\n"
     ]
    }
   ],
   "source": [
    "list=input()\n",
    "list=list.split()\n",
    "print(list)\n",
    "n=len(list)\n",
    "i=0\n",
    "j=1\n",
    "k=0\n",
    "while i!=n:\n",
    "    if list[i]!='.':\n",
    "        while j!=n:\n",
    "            if list[i]==list[j]:\n",
    "                if k==0:\n",
    "                    print(list[i])\n",
    "                list[j]='.'\n",
    "                k+=1\n",
    "            j+=1\n",
    "    i+=1\n",
    "    k=0\n",
    "    j=i+1\n",
    "\n"
   ]
  },
  {
   "cell_type": "markdown",
   "metadata": {},
   "source": [
    "#### ПРИМЕЧАНИЕ\n",
    "Домашнее задание сдается ссылкой на репозиторий [GitHub](https://github.com/).\n",
    "Не сможем проверить или помочь, если вы пришлете:\n",
    "- файлы;\n",
    "- архивы;\n",
    "- скриншоты кода.\n",
    "\n",
    "Все обсуждения и консультации по выполнению домашнего задания ведутся только на соответствующем канале в slack.\n",
    "\n",
    "##### Как правильно задавать вопросы аспирантам, преподавателям и коллегам\n",
    "Прежде чем задать вопрос, попробуйте найти ответ в интернете. Навык самостоятельного поиска информации — один из важнейших. Каждый практикующий специалист любого уровня делает это ежедневно.\n",
    "\n",
    "Сформулируйте вопрос по алгоритму:  \n",
    "1) Что я делаю?  \n",
    "2) Какого результата я ожидаю?  \n",
    "3) Как фактический результат отличается от ожидаемого?  \n",
    "4) Что я уже попробовал сделать, чтобы исправить проблему?  \n",
    "\n",
    "По возможности прикрепите к вопросу скриншоты либо ссылки на код. Не выкладывайте все решение, оставляйте только проблемный и воспроизводимый участок кода.\n"
   ]
  },
  {
   "cell_type": "code",
   "execution_count": null,
   "metadata": {},
   "outputs": [],
   "source": []
  }
 ],
 "metadata": {
  "kernelspec": {
   "display_name": "Python 3",
   "language": "python",
   "name": "python3"
  },
  "language_info": {
   "codemirror_mode": {
    "name": "ipython",
    "version": 3
   },
   "file_extension": ".py",
   "mimetype": "text/x-python",
   "name": "python",
   "nbconvert_exporter": "python",
   "pygments_lexer": "ipython3",
   "version": "3.8.3"
  }
 },
 "nbformat": 4,
 "nbformat_minor": 2
}
